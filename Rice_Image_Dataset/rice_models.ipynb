{
 "cells": [
  {
   "cell_type": "code",
   "execution_count": 1,
   "metadata": {},
   "outputs": [],
   "source": [
    "import pandas as pd\n",
    "import numpy as np\n",
    "import matplotlib.pyplot as plt\n",
    "import sklearn as sk\n",
    "import seaborn as sns\n",
    "from sklearn import linear_model\n",
    "from sklearn import preprocessing\n",
    "from sklearn.model_selection import train_test_split\n",
    "from sklearn.metrics import mean_squared_error, r2_score\n",
    "from sklearn.preprocessing import PolynomialFeatures\n",
    "from sklearn.linear_model import LinearRegression\n",
    "from sklearn.pipeline import make_pipeline\n",
    "import tensorflow as tf\n",
    "from tensorflow import keras\n",
    "from tensorflow.keras import layers\n",
    "from tensorflow.keras.layers.experimental import preprocessing\n",
    "import matplotlib.image as img\n",
    "import PIL.Image as Image\n",
    "import cv2\n",
    "import os\n",
    "import numpy as np\n",
    "import pathlib\n",
    "import tensorflow_hub as hub\n"
   ]
  },
  {
   "cell_type": "code",
   "execution_count": 2,
   "metadata": {},
   "outputs": [],
   "source": [
    "#data directory\n",
    "data_dir = \"D:\\\\python\\\\meow\\\\pruby\\\\ds\\\\rice\\\\Rice_Image_Dataset\"\n",
    "data_dir = pathlib.Path(data_dir)\n"
   ]
  },
  {
   "cell_type": "code",
   "execution_count": 3,
   "metadata": {},
   "outputs": [
    {
     "name": "stdout",
     "output_type": "stream",
     "text": [
      "Arborio: 600\n",
      "Basmati: 600\n",
      "Ipsati: 600\n",
      "Jasmine: 600\n",
      "Karacadag: 600\n"
     ]
    }
   ],
   "source": [
    "#separate categories of the rice images\n",
    "arborio = list(data_dir.glob('Arborio/*'))[:600]\n",
    "basmati = list(data_dir.glob('Basmati/*'))[:600]\n",
    "ipsala = list(data_dir.glob('Ipsala/*'))[:600]\n",
    "jasmine = list(data_dir.glob('Jasmine/*'))[:600]\n",
    "karacadag = list(data_dir.glob('Karacadag/*'))[:600]\n",
    "#print amount of images in each category\n",
    "print('Arborio:', len(arborio))\n",
    "print('Basmati:', len(basmati))\n",
    "print('Ipsati:', len(ipsala))\n",
    "print('Jasmine:', len(jasmine))\n",
    "print('Karacadag:', len(karacadag))\n"
   ]
  },
  {
   "cell_type": "code",
   "execution_count": 4,
   "metadata": {},
   "outputs": [
    {
     "data": {
      "image/png": "[encoded data removed]",
      "text/plain": [
       "<PIL.JpegImagePlugin.JpegImageFile image mode=RGB size=250x250>"
      ]
     },
     "execution_count": 4,
     "metadata": {},
     "output_type": "execute_result"
    }
   ],
   "source": [
    "#show a sample image\n",
    "Image.open(arborio[0])\n"
   ]
  },
  {
   "cell_type": "code",
   "execution_count": 5,
   "metadata": {},
   "outputs": [],
   "source": [
    "#creating separate dictionary for images and their labels\n",
    "rice_dict = {\n",
    "    'Arborio': arborio,\n",
    "    'Basmati': basmati,\n",
    "    'Ipsala': ipsala,\n",
    "    'Jasmine': jasmine,\n",
    "    'Karacadag': karacadag\n",
    "}\n",
    "\n",
    "#numerical labels for each category\n",
    "rice_labels = {\n",
    "    'Arborio': 0,\n",
    "    'Basmati': 1,\n",
    "    'Ipsala': 2,\n",
    "    'Jasmine': 3,\n",
    "    'Karacadag': 4\n",
    "}\n"
   ]
  },
  {
   "cell_type": "code",
   "execution_count": 6,
   "metadata": {},
   "outputs": [
    {
     "name": "stdout",
     "output_type": "stream",
     "text": [
      "(3000, 224, 224, 3)\n",
      "(3000, 1)\n"
     ]
    }
   ],
   "source": [
    "#reshape images to 224x224\n",
    "img_size = 224\n",
    "X = []\n",
    "y = []\n",
    "#iterate through each category\n",
    "for rice_name, images in rice_dict.items():\n",
    "    #iterate through each image\n",
    "    for image in images:\n",
    "        #read image\n",
    "        img = cv2.imread(str(image))\n",
    "        #resize image\n",
    "        img = cv2.resize(img, (img_size, img_size))\n",
    "        #append image and its label to the output\n",
    "        X.append(img)\n",
    "        y.append(rice_labels[rice_name])\n",
    "#convert list to numpy array\n",
    "X = np.array(X)\n",
    "y = np.array(y)\n",
    "#normalize image data\n",
    "X = X / 255\n",
    "#reshape labels\n",
    "y = y.reshape(-1, 1)\n",
    "#show shape of data\n",
    "print(X.shape)\n",
    "print(y.shape)\n",
    "\n",
    "    "
   ]
  },
  {
   "cell_type": "code",
   "execution_count": 7,
   "metadata": {},
   "outputs": [
    {
     "name": "stdout",
     "output_type": "stream",
     "text": [
      "(1920, 224, 224, 3)\n",
      "(600, 224, 224, 3)\n",
      "(1920, 1)\n",
      "(600, 1)\n"
     ]
    }
   ],
   "source": [
    "#split data into train and test sets\n",
    "X_train, X_test, y_train, y_test = train_test_split(X, y, test_size=0.2)\n",
    "#validation sets\n",
    "X_train, X_val, y_train, y_val = train_test_split(X_train, y_train, test_size=0.2)\n",
    "#show shape of train and test sets\n",
    "print(X_train.shape)\n",
    "print(X_test.shape)\n",
    "print(y_train.shape)\n",
    "print(y_test.shape)\n"
   ]
  },
  {
   "cell_type": "code",
   "execution_count": 8,
   "metadata": {},
   "outputs": [
    {
     "name": "stdout",
     "output_type": "stream",
     "text": [
      "(480, 224, 224, 3)\n",
      "(480, 1)\n"
     ]
    }
   ],
   "source": [
    "#print validation set shape\n",
    "print(X_val.shape)\n",
    "print(y_val.shape)"
   ]
  },
  {
   "cell_type": "code",
   "execution_count": 9,
   "metadata": {},
   "outputs": [
    {
     "name": "stdout",
     "output_type": "stream",
     "text": [
      "Epoch 1/10\n",
      "60/60 [==============================] - 8s 12ms/step - loss: 2.4003 - accuracy: 0.7786\n",
      "Epoch 2/10\n",
      "60/60 [==============================] - 1s 11ms/step - loss: 0.1365 - accuracy: 0.9568\n",
      "Epoch 3/10\n",
      "60/60 [==============================] - 1s 11ms/step - loss: 0.1512 - accuracy: 0.9536\n",
      "Epoch 4/10\n",
      "60/60 [==============================] - 1s 11ms/step - loss: 0.1841 - accuracy: 0.9547\n",
      "Epoch 5/10\n",
      "60/60 [==============================] - 1s 11ms/step - loss: 0.1118 - accuracy: 0.9708\n",
      "Epoch 6/10\n",
      "60/60 [==============================] - 1s 11ms/step - loss: 0.1014 - accuracy: 0.9661\n",
      "Epoch 7/10\n",
      "60/60 [==============================] - 1s 11ms/step - loss: 0.0754 - accuracy: 0.9776\n",
      "Epoch 8/10\n",
      "60/60 [==============================] - 1s 11ms/step - loss: 0.1594 - accuracy: 0.9661\n",
      "Epoch 9/10\n",
      "60/60 [==============================] - 1s 11ms/step - loss: 0.0931 - accuracy: 0.9719\n",
      "Epoch 10/10\n",
      "60/60 [==============================] - 1s 11ms/step - loss: 0.1232 - accuracy: 0.9688\n",
      "19/19 - 0s - loss: 0.1841 - accuracy: 0.9700\n"
     ]
    }
   ],
   "source": [
    "#create model\n",
    "model = tf.keras.Sequential([\n",
    "    tf.keras.layers.Flatten(input_shape=(224, 224, 3)),\n",
    "    tf.keras.layers.Dense(128, activation='relu'),\n",
    "    tf.keras.layers.Dense(5)\n",
    "])\n",
    "#compile model\n",
    "model.compile(optimizer='adam',\n",
    "                loss=tf.keras.losses.SparseCategoricalCrossentropy(from_logits=True),\n",
    "                metrics=['accuracy'])\n",
    "#train model\n",
    "model.fit(X_train, y_train, epochs=10)\n",
    "#evaluate model\n",
    "model.evaluate(X_test, y_test, verbose=2)\n",
    "#save model\n",
    "model.save('rice_model.h5')"
   ]
  },
  {
   "cell_type": "code",
   "execution_count": 15,
   "metadata": {},
   "outputs": [
    {
     "name": "stdout",
     "output_type": "stream",
     "text": [
      "[0.19606861 0.21082684 0.19270228 0.20951083 0.19089141]\n",
      "1\n",
      "[4]\n"
     ]
    }
   ],
   "source": [
    "#visualize model\n",
    "probability_model = tf.keras.Sequential([model, tf.keras.layers.Softmax()])\n",
    "predictions = probability_model.predict(X_test)\n",
    "print(predictions[0])\n",
    "print(np.argmax(predictions[0]))\n",
    "print(y_test[0])\n",
    "\n",
    "\n"
   ]
  },
  {
   "cell_type": "code",
   "execution_count": null,
   "metadata": {},
   "outputs": [],
   "source": [
    "#most likely bad predictions due to low sample size to learn from"
   ]
  }
 ],
 "metadata": {
  "kernelspec": {
   "display_name": "base",
   "language": "python",
   "name": "python3"
  },
  "language_info": {
   "codemirror_mode": {
    "name": "ipython",
    "version": 3
   },
   "file_extension": ".py",
   "mimetype": "text/x-python",
   "name": "python",
   "nbconvert_exporter": "python",
   "pygments_lexer": "ipython3",
   "version": "3.9.13"
  },
  "orig_nbformat": 4
 },
 "nbformat": 4,
 "nbformat_minor": 2
}
